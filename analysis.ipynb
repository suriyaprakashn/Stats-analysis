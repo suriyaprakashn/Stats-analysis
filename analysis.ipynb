{
 "cells": [
  {
   "cell_type": "markdown",
   "id": "b201c3ac",
   "metadata": {},
   "source": [
    "Statistics Mini Project\n",
    "\n",
    "1. Perform the following statistical analysis on the fifa world cup dataset. The dataset consists of player information, which includes height; weight overall rating, potential etc. Data Cleaning and basic EDA process needs to be performed. \n",
    "\n",
    "a)Assuming age as population, perform the central limit theorem with sample size of 200. Find the standard error and the mean of sampling distribution. Compare the results with population mean and standard deviation. Explain in non-technical terms why the estimated standard error of a sample mean tends to decrease with an increase in sample size\n",
    "\n",
    "b)Is there any evidence that the players overall rating is greater than 80?\n",
    "\n",
    "c)Perform the statistical test to identify whether preferred foot has any impact on potential. Also, perform the graphical analysis.\n",
    "\n",
    "d)Perform the statistical test to identify the relation between the overall rating and potential. [Assume both are continuous data points].\n",
    "\n",
    "e)Does skill move have any effect in overall rating? Perform the graphical analysis and the statistical analysis.\n",
    "\n",
    "Note: \n",
    "1) Perform all the Statistical analysis with 5% (Significance level). \n",
    "\n",
    "2) Assume all the features are normally distributed and have equal variance.\n",
    "\n",
    "\n"
   ]
  },
  {
   "cell_type": "code",
   "execution_count": 1,
   "id": "0c1efcd1",
   "metadata": {},
   "outputs": [],
   "source": [
    "import scipy.stats as stats\n",
    "import numpy as np\n",
    "import pandas as pd\n",
    "import matplotlib.pyplot as plt\n",
    "import seaborn as sns\n",
    "from scipy.stats import ttest_ind,chi2_contingency,f_oneway\n",
    "import warnings\n",
    "warnings.filterwarnings('ignore')\n",
    "pd.set_option('max_columns',None)\n",
    "from   statsmodels.formula.api import ols\n",
    "from   statsmodels.stats.anova import anova_lm\n",
    "from scipy.stats import ttest_1samp,f_oneway"
   ]
  },
  {
   "cell_type": "code",
   "execution_count": 2,
   "id": "cd1825b2",
   "metadata": {},
   "outputs": [],
   "source": [
    "fifa = pd.read_csv('fifa_stats.csv')"
   ]
  },
  {
   "cell_type": "code",
   "execution_count": 3,
   "id": "ae8fb41f",
   "metadata": {},
   "outputs": [
    {
     "data": {
      "text/html": [
       "<div>\n",
       "<style scoped>\n",
       "    .dataframe tbody tr th:only-of-type {\n",
       "        vertical-align: middle;\n",
       "    }\n",
       "\n",
       "    .dataframe tbody tr th {\n",
       "        vertical-align: top;\n",
       "    }\n",
       "\n",
       "    .dataframe thead th {\n",
       "        text-align: right;\n",
       "    }\n",
       "</style>\n",
       "<table border=\"1\" class=\"dataframe\">\n",
       "  <thead>\n",
       "    <tr style=\"text-align: right;\">\n",
       "      <th></th>\n",
       "      <th>Name</th>\n",
       "      <th>Age</th>\n",
       "      <th>Nationality</th>\n",
       "      <th>Overall_rating</th>\n",
       "      <th>Potential</th>\n",
       "      <th>Club</th>\n",
       "      <th>Preferred Foot</th>\n",
       "      <th>International Reputation</th>\n",
       "      <th>Weak Foot</th>\n",
       "      <th>Skill Moves</th>\n",
       "      <th>Work Rate</th>\n",
       "      <th>Position</th>\n",
       "      <th>Jersey Number</th>\n",
       "      <th>Height</th>\n",
       "      <th>Weight</th>\n",
       "    </tr>\n",
       "  </thead>\n",
       "  <tbody>\n",
       "    <tr>\n",
       "      <th>0</th>\n",
       "      <td>L. Messi</td>\n",
       "      <td>31</td>\n",
       "      <td>Argentina</td>\n",
       "      <td>94</td>\n",
       "      <td>94</td>\n",
       "      <td>FC Barcelona</td>\n",
       "      <td>Left</td>\n",
       "      <td>5</td>\n",
       "      <td>4</td>\n",
       "      <td>4</td>\n",
       "      <td>Medium/ Medium</td>\n",
       "      <td>RF</td>\n",
       "      <td>10</td>\n",
       "      <td>5.583333</td>\n",
       "      <td>159</td>\n",
       "    </tr>\n",
       "    <tr>\n",
       "      <th>1</th>\n",
       "      <td>Cristiano Ronaldo</td>\n",
       "      <td>33</td>\n",
       "      <td>Portugal</td>\n",
       "      <td>94</td>\n",
       "      <td>94</td>\n",
       "      <td>Juventus</td>\n",
       "      <td>Right</td>\n",
       "      <td>5</td>\n",
       "      <td>4</td>\n",
       "      <td>5</td>\n",
       "      <td>High/ Low</td>\n",
       "      <td>ST</td>\n",
       "      <td>7</td>\n",
       "      <td>6.166667</td>\n",
       "      <td>183</td>\n",
       "    </tr>\n",
       "    <tr>\n",
       "      <th>2</th>\n",
       "      <td>Neymar Jr</td>\n",
       "      <td>26</td>\n",
       "      <td>Brazil</td>\n",
       "      <td>92</td>\n",
       "      <td>93</td>\n",
       "      <td>Paris Saint-Germain</td>\n",
       "      <td>Right</td>\n",
       "      <td>5</td>\n",
       "      <td>5</td>\n",
       "      <td>5</td>\n",
       "      <td>High/ Medium</td>\n",
       "      <td>LW</td>\n",
       "      <td>10</td>\n",
       "      <td>5.750000</td>\n",
       "      <td>150</td>\n",
       "    </tr>\n",
       "    <tr>\n",
       "      <th>3</th>\n",
       "      <td>De Gea</td>\n",
       "      <td>27</td>\n",
       "      <td>Spain</td>\n",
       "      <td>91</td>\n",
       "      <td>93</td>\n",
       "      <td>Manchester United</td>\n",
       "      <td>Right</td>\n",
       "      <td>4</td>\n",
       "      <td>3</td>\n",
       "      <td>1</td>\n",
       "      <td>Medium/ Medium</td>\n",
       "      <td>GK</td>\n",
       "      <td>1</td>\n",
       "      <td>6.333333</td>\n",
       "      <td>168</td>\n",
       "    </tr>\n",
       "    <tr>\n",
       "      <th>4</th>\n",
       "      <td>K. De Bruyne</td>\n",
       "      <td>27</td>\n",
       "      <td>Belgium</td>\n",
       "      <td>91</td>\n",
       "      <td>92</td>\n",
       "      <td>Manchester City</td>\n",
       "      <td>Right</td>\n",
       "      <td>4</td>\n",
       "      <td>5</td>\n",
       "      <td>4</td>\n",
       "      <td>High/ High</td>\n",
       "      <td>RCM</td>\n",
       "      <td>7</td>\n",
       "      <td>5.083333</td>\n",
       "      <td>154</td>\n",
       "    </tr>\n",
       "  </tbody>\n",
       "</table>\n",
       "</div>"
      ],
      "text/plain": [
       "                Name  Age Nationality  Overall_rating  Potential  \\\n",
       "0           L. Messi   31   Argentina              94         94   \n",
       "1  Cristiano Ronaldo   33    Portugal              94         94   \n",
       "2          Neymar Jr   26      Brazil              92         93   \n",
       "3             De Gea   27       Spain              91         93   \n",
       "4       K. De Bruyne   27     Belgium              91         92   \n",
       "\n",
       "                  Club Preferred Foot  International Reputation  Weak Foot  \\\n",
       "0         FC Barcelona           Left                         5          4   \n",
       "1             Juventus          Right                         5          4   \n",
       "2  Paris Saint-Germain          Right                         5          5   \n",
       "3    Manchester United          Right                         4          3   \n",
       "4      Manchester City          Right                         4          5   \n",
       "\n",
       "   Skill Moves       Work Rate Position  Jersey Number    Height  Weight  \n",
       "0            4  Medium/ Medium       RF             10  5.583333     159  \n",
       "1            5       High/ Low       ST              7  6.166667     183  \n",
       "2            5    High/ Medium       LW             10  5.750000     150  \n",
       "3            1  Medium/ Medium       GK              1  6.333333     168  \n",
       "4            4      High/ High      RCM              7  5.083333     154  "
      ]
     },
     "execution_count": 3,
     "metadata": {},
     "output_type": "execute_result"
    }
   ],
   "source": [
    "fifa.head()"
   ]
  },
  {
   "cell_type": "code",
   "execution_count": 4,
   "id": "ba55ee97",
   "metadata": {},
   "outputs": [
    {
     "data": {
      "text/plain": [
       "Name                         0\n",
       "Age                          0\n",
       "Nationality                  0\n",
       "Overall_rating               0\n",
       "Potential                    0\n",
       "Club                        19\n",
       "Preferred Foot               0\n",
       "International Reputation     0\n",
       "Weak Foot                    0\n",
       "Skill Moves                  0\n",
       "Work Rate                    0\n",
       "Position                     0\n",
       "Jersey Number                0\n",
       "Height                       0\n",
       "Weight                       0\n",
       "dtype: int64"
      ]
     },
     "execution_count": 4,
     "metadata": {},
     "output_type": "execute_result"
    }
   ],
   "source": [
    "fifa.isnull().sum()"
   ]
  },
  {
   "cell_type": "code",
   "execution_count": 5,
   "id": "41181c42",
   "metadata": {},
   "outputs": [
    {
     "name": "stdout",
     "output_type": "stream",
     "text": [
      "<class 'pandas.core.frame.DataFrame'>\n",
      "RangeIndex: 2000 entries, 0 to 1999\n",
      "Data columns (total 15 columns):\n",
      " #   Column                    Non-Null Count  Dtype  \n",
      "---  ------                    --------------  -----  \n",
      " 0   Name                      2000 non-null   object \n",
      " 1   Age                       2000 non-null   int64  \n",
      " 2   Nationality               2000 non-null   object \n",
      " 3   Overall_rating            2000 non-null   int64  \n",
      " 4   Potential                 2000 non-null   int64  \n",
      " 5   Club                      1981 non-null   object \n",
      " 6   Preferred Foot            2000 non-null   object \n",
      " 7   International Reputation  2000 non-null   int64  \n",
      " 8   Weak Foot                 2000 non-null   int64  \n",
      " 9   Skill Moves               2000 non-null   int64  \n",
      " 10  Work Rate                 2000 non-null   object \n",
      " 11  Position                  2000 non-null   object \n",
      " 12  Jersey Number             2000 non-null   int64  \n",
      " 13  Height                    2000 non-null   float64\n",
      " 14  Weight                    2000 non-null   int64  \n",
      "dtypes: float64(1), int64(8), object(6)\n",
      "memory usage: 234.5+ KB\n"
     ]
    }
   ],
   "source": [
    "fifa.info()"
   ]
  },
  {
   "cell_type": "code",
   "execution_count": 6,
   "id": "30029d93",
   "metadata": {},
   "outputs": [],
   "source": [
    "num= fifa.select_dtypes(include=np.number)\n",
    "cat= fifa.select_dtypes(exclude=np.number)"
   ]
  },
  {
   "cell_type": "code",
   "execution_count": 7,
   "id": "58a2b2fe",
   "metadata": {},
   "outputs": [
    {
     "data": {
      "image/png": "[encoded data removed]",
      "text/plain": [
       "<Figure size 432x288 with 1 Axes>"
      ]
     },
     "metadata": {
      "needs_background": "light"
     },
     "output_type": "display_data"
    },
    {
     "data": {
      "image/png": "[encoded data removed]",
      "text/plain": [
       "<Figure size 432x288 with 1 Axes>"
      ]
     },
     "metadata": {
      "needs_background": "light"
     },
     "output_type": "display_data"
    },
    {
     "data": {
      "image/png": "[encoded data removed]",
      "text/plain": [
       "<Figure size 432x288 with 1 Axes>"
      ]
     },
     "metadata": {
      "needs_background": "light"
     },
     "output_type": "display_data"
    },
    {
     "data": {
      "image/png": "[encoded data removed]",
      "text/plain": [
       "<Figure size 432x288 with 1 Axes>"
      ]
     },
     "metadata": {
      "needs_background": "light"
     },
     "output_type": "display_data"
    },
    {
     "data": {
      "image/png": "[encoded data removed]",
      "text/plain": [
       "<Figure size 432x288 with 1 Axes>"
      ]
     },
     "metadata": {
      "needs_background": "light"
     },
     "output_type": "display_data"
    },
    {
     "data": {
      "image/png": "[encoded data removed]",
      "text/plain": [
       "<Figure size 432x288 with 1 Axes>"
      ]
     },
     "metadata": {
      "needs_background": "light"
     },
     "output_type": "display_data"
    },
    {
     "data": {
      "image/png": "[encoded data removed]",
      "text/plain": [
       "<Figure size 432x288 with 1 Axes>"
      ]
     },
     "metadata": {
      "needs_background": "light"
     },
     "output_type": "display_data"
    },
    {
     "data": {
      "image/png": "[encoded data removed]",
      "text/plain": [
       "<Figure size 432x288 with 1 Axes>"
      ]
     },
     "metadata": {
      "needs_background": "light"
     },
     "output_type": "display_data"
    },
    {
     "data": {
      "image/png": "[encoded data removed]",
      "text/plain": [
       "<Figure size 432x288 with 1 Axes>"
      ]
     },
     "metadata": {
      "needs_background": "light"
     },
     "output_type": "display_data"
    }
   ],
   "source": [
    "for i in num.columns:\n",
    "    sns.boxplot(fifa[i])\n",
    "    plt.show()"
   ]
  },
  {
   "cell_type": "code",
   "execution_count": 8,
   "id": "5f40c33b",
   "metadata": {},
   "outputs": [],
   "source": [
    "# a)Assuming age as population, perform the central limit theorem with sample size of 200. \n",
    "# Find the standard error and the mean of sampling distribution. \n",
    "# Compare the results with population mean and standard deviation. \n",
    "#  Explain in non-technical terms why the estimated standard error of a sample mean tends to decrease with an increase in sample size"
   ]
  },
  {
   "cell_type": "code",
   "execution_count": 9,
   "id": "ee821544",
   "metadata": {},
   "outputs": [
    {
     "name": "stdout",
     "output_type": "stream",
     "text": [
      "27.375 0.3022912502868713\n"
     ]
    },
    {
     "data": {
      "image/png": "[encoded data removed]",
      "text/plain": [
       "<Figure size 432x288 with 1 Axes>"
      ]
     },
     "metadata": {
      "needs_background": "light"
     },
     "output_type": "display_data"
    }
   ],
   "source": [
    "mu=np.mean(fifa['Age'])\n",
    "sigma=np.std(fifa['Age'],ddof=1)\n",
    "# xbar= np.mean(sample)\n",
    "list_of_sample_mean=[]\n",
    "for i in range(5):\n",
    "    sample=np.random.choice(fifa['Age'],size=200,replace=True)\n",
    "    sample_mean= np.mean(sample)\n",
    "    list_of_sample_mean.append(sample_mean)\n",
    "s=list_of_sample_mean\n",
    "print(np.mean(s),np.std(s))\n",
    "sns.distplot(s)\n",
    "plt.show()"
   ]
  },
  {
   "cell_type": "code",
   "execution_count": 10,
   "id": "75b27bcd",
   "metadata": {},
   "outputs": [],
   "source": [
    "# b)Is there any evidence that the players overall rating is greater than 80?"
   ]
  },
  {
   "cell_type": "code",
   "execution_count": 11,
   "id": "32d4e5e2",
   "metadata": {},
   "outputs": [
    {
     "data": {
      "text/plain": [
       "Ttest_1sampResult(statistic=27.81557161639246, pvalue=1.6004134797591052e-96)"
      ]
     },
     "execution_count": 11,
     "metadata": {},
     "output_type": "execute_result"
    }
   ],
   "source": [
    "# HA : overall rating > 80\n",
    "# HO : <=80\n",
    "s=fifa[fifa['Overall_rating'] > 80]['Overall_rating']\n",
    "ttest_1samp(s,80)\n",
    "# since p val< 0.05  we can reject null hypothesis and there are players > 80 "
   ]
  },
  {
   "cell_type": "code",
   "execution_count": 12,
   "id": "1fd10f26",
   "metadata": {},
   "outputs": [],
   "source": [
    "# c)Perform the statistical test to identify whether preferred foot has any impact on potential. \n",
    "# Also, perform the graphical analysis."
   ]
  },
  {
   "cell_type": "code",
   "execution_count": 13,
   "id": "5ab8e39b",
   "metadata": {},
   "outputs": [],
   "source": [
    "fifa['Preferred Foot']= fifa['Preferred Foot'].replace({'Left':0,'Right':1}) "
   ]
  },
  {
   "cell_type": "code",
   "execution_count": 14,
   "id": "1691205a",
   "metadata": {},
   "outputs": [
    {
     "data": {
      "image/png": "[encoded data removed]",
      "text/plain": [
       "<Figure size 432x288 with 1 Axes>"
      ]
     },
     "metadata": {
      "needs_background": "light"
     },
     "output_type": "display_data"
    }
   ],
   "source": [
    "# HO: avg potential of left footed player = avg potential of right footed player\n",
    "# HA: avg potential of left footed player != avg potential of right footed player\n",
    "g1= fifa[fifa['Preferred Foot']==0]['Potential']\n",
    "g2= fifa[fifa['Preferred Foot']==1]['Potential']\n",
    "ttest_ind(g1,g2)\n",
    "# since p val > 0.05 we cannot reject null hypothesis hence say that avg potential of left footed player = avg potential of right footed player\n",
    "# and say that it does not have any impact on potential\n",
    "# fifa.groupby('Preferred Foot')['Potential'].mean().plot(kind='bar')\n",
    "# plt.title('Preferred foot vs Potential')\n",
    "# plt.show()\n",
    "sns.boxplot(x=fifa['Preferred Foot'],y=fifa['Potential'])\n",
    "plt.show()"
   ]
  },
  {
   "cell_type": "code",
   "execution_count": 15,
   "id": "9ffe8381",
   "metadata": {},
   "outputs": [],
   "source": [
    "# d)Perform the statistical test to identify the relation between the overall rating and potential.\n",
    "# [Assume both are continuous data points]."
   ]
  },
  {
   "cell_type": "code",
   "execution_count": 16,
   "id": "32812b59",
   "metadata": {},
   "outputs": [
    {
     "data": {
      "text/plain": [
       "0.7326945574179996"
      ]
     },
     "execution_count": 16,
     "metadata": {},
     "output_type": "execute_result"
    }
   ],
   "source": [
    "fifa['Potential'].corr(fifa['Overall_rating'])"
   ]
  },
  {
   "cell_type": "code",
   "execution_count": 17,
   "id": "65c160b1",
   "metadata": {},
   "outputs": [
    {
     "data": {
      "image/png": "[encoded data removed]",
      "text/plain": [
       "<Figure size 432x288 with 1 Axes>"
      ]
     },
     "metadata": {
      "needs_background": "light"
     },
     "output_type": "display_data"
    }
   ],
   "source": [
    "# HO: Avg of potential = avg of Overall_rating\n",
    "# HA: Avg of potential != avg of Overall_rating\n",
    "ttest_ind(fifa['Potential'],fifa['Overall_rating'])\n",
    "# since p value is less than 0.05 we can reject null hypothesis and say there is  relation between them\n",
    "sns.scatterplot(x=fifa['Potential'],y=fifa['Overall_rating'])\n",
    "plt.show()\n",
    "# from scatter plot we can say that increase in potential increases overall rating\n"
   ]
  },
  {
   "cell_type": "code",
   "execution_count": 18,
   "id": "7d398017",
   "metadata": {},
   "outputs": [],
   "source": [
    "# e)Does skill move have any effect in overall rating? Perform the graphical analysis and the statistical analysis."
   ]
  },
  {
   "cell_type": "code",
   "execution_count": 19,
   "id": "541a7746",
   "metadata": {},
   "outputs": [
    {
     "data": {
      "image/png": "[encoded data removed]",
      "text/plain": [
       "<Figure size 432x288 with 1 Axes>"
      ]
     },
     "metadata": {
      "needs_background": "light"
     },
     "output_type": "display_data"
    }
   ],
   "source": [
    "# HO Avg overall rating of 1 star = Avg overall rating of 2 star = 3 star = 4 star=5 star\n",
    "# HA Avg overall rating of 1 star != Avg overall rating of 2 star != 3 star != 4 star 1=5 star\n",
    "# x=fifa['Skill Moves']\n",
    "# m=ols('Overall_rating ~ x',data=fifa).fit()\n",
    "# print(anova_lm(m,type=1))\n",
    "g1= fifa[fifa['Skill Moves']==1]['Overall_rating']\n",
    "g2= fifa[fifa['Skill Moves']==2]['Overall_rating']\n",
    "g3= fifa[fifa['Skill Moves']==3]['Overall_rating']\n",
    "g4= fifa[fifa['Skill Moves']==4]['Overall_rating']\n",
    "g5= fifa[fifa['Skill Moves']==5]['Overall_rating']\n",
    "f_oneway(g1,g2,g3,g4,g5)\n",
    "# since p value < 0.05 we can reject null hypothesis and say that HA holds good\n",
    "sns.boxplot(x=fifa['Skill Moves'],y=fifa['Overall_rating'])\n",
    "plt.show()\n",
    "# 5 star skillers have more rating as comapred to others "
   ]
  },
  {
   "cell_type": "markdown",
   "id": "1705e07e",
   "metadata": {},
   "source": [
    "2. Perform the following statistical analysis on the mobile network dataset given. The given data set contains information about the internet, calls, and messages of various network. Data Cleaning and basic EDA process needs to be performed. \n",
    "\n",
    "a) With 95% & 99% Confidence Interval, find the range estimate of average duration calls made by the entire network. Which of the Intervals are wider? Interpret the results.\n",
    "\n",
    "b) Perform statistical analysis to check whether the networks are equally distributed in the dataset.\n",
    "\n",
    "c) Plot the distribution of duration with respect to each network in the same graph and interpret the results from the graph.\n",
    "\n",
    "d)Perform statistical tests to identify the relation between item and duration. Detailed explanation of relation between the classes is required.\n",
    "\n",
    "e)Perform statistical tests to identify the relation between network and network_type. \n",
    "\n",
    "Note: \n",
    "1) Perform all the Statistical analysis with 5% (Significance level). \n",
    "\n",
    "2) Perform the test of normality and test of variance in the appropriate places."
   ]
  },
  {
   "cell_type": "code",
   "execution_count": 20,
   "id": "bbee0cfa",
   "metadata": {},
   "outputs": [],
   "source": [
    "ph=pd.read_csv('phone.csv')"
   ]
  },
  {
   "cell_type": "code",
   "execution_count": 72,
   "id": "0381272b",
   "metadata": {},
   "outputs": [
    {
     "name": "stdout",
     "output_type": "stream",
     "text": [
      "<class 'pandas.core.frame.DataFrame'>\n",
      "RangeIndex: 820 entries, 0 to 819\n",
      "Data columns (total 6 columns):\n",
      " #   Column        Non-Null Count  Dtype  \n",
      "---  ------        --------------  -----  \n",
      " 0   date          820 non-null    object \n",
      " 1   duration      820 non-null    float64\n",
      " 2   item          820 non-null    object \n",
      " 3   month         820 non-null    object \n",
      " 4   network       820 non-null    object \n",
      " 5   network_type  820 non-null    object \n",
      "dtypes: float64(1), object(5)\n",
      "memory usage: 38.6+ KB\n"
     ]
    },
    {
     "data": {
      "text/plain": [
       "ShapiroResult(statistic=0.9984679818153381, pvalue=0.701244592666626)"
      ]
     },
     "execution_count": 72,
     "metadata": {},
     "output_type": "execute_result"
    }
   ],
   "source": [
    "ph.info()\n",
    "stats.shapiro(ph['duration'])\n",
    "# since pval > 0.70 we cannot reject null hypothesis and say data is normal "
   ]
  },
  {
   "cell_type": "code",
   "execution_count": 73,
   "id": "94a16b0f",
   "metadata": {},
   "outputs": [
    {
     "data": {
      "image/png": "[encoded data removed]",
      "text/plain": [
       "<Figure size 432x288 with 1 Axes>"
      ]
     },
     "metadata": {
      "needs_background": "light"
     },
     "output_type": "display_data"
    }
   ],
   "source": [
    "sns.boxplot(ph['duration'])\n",
    "plt.show()"
   ]
  },
  {
   "cell_type": "code",
   "execution_count": 25,
   "id": "9c057111",
   "metadata": {},
   "outputs": [
    {
     "data": {
      "text/plain": [
       "820"
      ]
     },
     "execution_count": 25,
     "metadata": {},
     "output_type": "execute_result"
    }
   ],
   "source": [
    "# a) With 95% & 99% Confidence Interval, find the range estimate of average duration calls made by the entire network. \n",
    "# Which of the Intervals are wider? Interpret the results.\n",
    "len(ph)"
   ]
  },
  {
   "cell_type": "code",
   "execution_count": 27,
   "id": "edcb3e98",
   "metadata": {},
   "outputs": [
    {
     "data": {
      "text/plain": [
       "(141.17778226665462, 147.4320888530163)"
      ]
     },
     "execution_count": 27,
     "metadata": {},
     "output_type": "execute_result"
    }
   ],
   "source": [
    "# 95% interval \n",
    "np.mean(ph['duration'])- 1.96 * (np.std(ph['duration'],ddof=1) / np.sqrt(len(ph)) ),np.mean(ph['duration'])+ 1.96 * (np.std(ph['duration'],ddof=1) / np.sqrt(len(ph)) )"
   ]
  },
  {
   "cell_type": "code",
   "execution_count": 74,
   "id": "6ff5dc88",
   "metadata": {},
   "outputs": [
    {
     "data": {
      "text/plain": [
       "(140.18858071473008, 148.42129040494083)"
      ]
     },
     "execution_count": 74,
     "metadata": {},
     "output_type": "execute_result"
    }
   ],
   "source": [
    "# 99% interval \n",
    "np.mean(ph['duration'])- 2.58 * (np.std(ph['duration'],ddof=1) / np.sqrt(len(ph)) ),np.mean(ph['duration'])+ 2.58 * (np.std(ph['duration'],ddof=1) / np.sqrt(len(ph)) )"
   ]
  },
  {
   "cell_type": "code",
   "execution_count": 75,
   "id": "29936241",
   "metadata": {},
   "outputs": [
    {
     "data": {
      "image/png": "[encoded data removed]",
      "text/plain": [
       "<Figure size 432x288 with 1 Axes>"
      ]
     },
     "metadata": {
      "needs_background": "light"
     },
     "output_type": "display_data"
    }
   ],
   "source": [
    "sns.distplot(ph['duration'])\n",
    "plt.show()"
   ]
  },
  {
   "cell_type": "code",
   "execution_count": 31,
   "id": "063bfb43",
   "metadata": {},
   "outputs": [],
   "source": [
    "# 95% interval  is wider"
   ]
  },
  {
   "cell_type": "code",
   "execution_count": 45,
   "id": "7912e202",
   "metadata": {},
   "outputs": [],
   "source": [
    "# b) Perform statistical analysis to check whether the networks are equally distributed in the dataset.\n",
    "# avg duration for all 'data', 'Vodafone', 'Meteor', 'Tesco', 'Three', 'voicemail','landline' is equal\n",
    "# avg duration for all 'data', 'Vodafone', 'Meteor', 'Tesco', 'Three', 'voicemail','landline' not is equal\n",
    "ph['network'].value_counts()\n",
    "g1=ph[ph['network']=='data']['duration']\n",
    "g2=ph[ph['network']=='Vodafone']['duration']\n",
    "g3=ph[ph['network']=='Meteor']['duration']\n",
    "g4=ph[ph['network']=='Tesco']['duration']\n",
    "g5=ph[ph['network']=='Three']['duration']\n",
    "g6=ph[ph['network']=='voicemail']['duration']"
   ]
  },
  {
   "cell_type": "code",
   "execution_count": 43,
   "id": "2392a1b6",
   "metadata": {},
   "outputs": [
    {
     "data": {
      "text/plain": [
       "array(['data', 'Vodafone', 'Meteor', 'Tesco', 'Three', 'voicemail',\n",
       "       'landline'], dtype=object)"
      ]
     },
     "execution_count": 43,
     "metadata": {},
     "output_type": "execute_result"
    }
   ],
   "source": [
    "ph['network'].unique()"
   ]
  },
  {
   "cell_type": "code",
   "execution_count": 44,
   "id": "954b57cd",
   "metadata": {},
   "outputs": [
    {
     "data": {
      "text/plain": [
       "F_onewayResult(statistic=1.6562151601233113, pvalue=0.14283480850066219)"
      ]
     },
     "execution_count": 44,
     "metadata": {},
     "output_type": "execute_result"
    }
   ],
   "source": [
    "f_oneway(g1,g2,g3,g4,g5,g6)"
   ]
  },
  {
   "cell_type": "code",
   "execution_count": 46,
   "id": "10e84312",
   "metadata": {},
   "outputs": [],
   "source": [
    "#since p val > 0.05 we cannot reject null hypothesis,hence  avg duration for all 'data', 'Vodafone', 'Meteor', 'Tesco', 'Three', 'voicemail','landline' is equal"
   ]
  },
  {
   "cell_type": "code",
   "execution_count": 47,
   "id": "fc41083c",
   "metadata": {},
   "outputs": [],
   "source": [
    "# c) Plot the distribution of duration with respect to each network in the same graph \n",
    "# and interpret the results from the graph."
   ]
  },
  {
   "cell_type": "code",
   "execution_count": 48,
   "id": "84548307",
   "metadata": {},
   "outputs": [
    {
     "data": {
      "image/png": "[encoded data removed]",
      "text/plain": [
       "<Figure size 432x288 with 1 Axes>"
      ]
     },
     "metadata": {
      "needs_background": "light"
     },
     "output_type": "display_data"
    }
   ],
   "source": [
    "sns.boxplot(x=ph['network'],y=ph['duration'])\n",
    "plt.show()"
   ]
  },
  {
   "cell_type": "code",
   "execution_count": 76,
   "id": "ffe8eed5",
   "metadata": {},
   "outputs": [],
   "source": [
    "# Except landline and voice mail the distribution of duration is more or less same"
   ]
  },
  {
   "cell_type": "code",
   "execution_count": 50,
   "id": "1495c62a",
   "metadata": {},
   "outputs": [],
   "source": [
    "# d)Perform statistical tests to identify the relation between item and duration. \n",
    "# Detailed explanation of relation between the classes is required."
   ]
  },
  {
   "cell_type": "code",
   "execution_count": 57,
   "id": "5ecc9cfd",
   "metadata": {},
   "outputs": [
    {
     "data": {
      "text/plain": [
       "F_onewayResult(statistic=1.9313964906864995, pvalue=0.1456068656611744)"
      ]
     },
     "execution_count": 57,
     "metadata": {},
     "output_type": "execute_result"
    }
   ],
   "source": [
    "# HO: Avg duration for data=avg duration for call=avg duration of sms\n",
    "# HA:Avg duration for data!=avg duration for call!=avg duration of sms\n",
    "g1=ph[ph['item']=='data']['duration']\n",
    "g2=ph[ph['item']=='call']['duration']\n",
    "g3=ph[ph['item']=='sms']['duration']\n",
    "f_oneway(g1,g2,g3)\n",
    "# since pval > 0.05 we cannot reject null hypothesis and say Avg duration for data=avg duration for call=avg duration of sms"
   ]
  },
  {
   "cell_type": "code",
   "execution_count": 51,
   "id": "9efaa648",
   "metadata": {},
   "outputs": [],
   "source": [
    "# e)Perform statistical tests to identify the relation between network and network_type."
   ]
  },
  {
   "cell_type": "code",
   "execution_count": 58,
   "id": "19c493ff",
   "metadata": {},
   "outputs": [
    {
     "data": {
      "text/plain": [
       "array(['data', 'Vodafone', 'Meteor', 'Tesco', 'Three', 'voicemail',\n",
       "       'landline'], dtype=object)"
      ]
     },
     "execution_count": 58,
     "metadata": {},
     "output_type": "execute_result"
    }
   ],
   "source": [
    "#HO : network type = network \n",
    "#H1 : network type != network \n",
    "ph['network'].unique()"
   ]
  },
  {
   "cell_type": "code",
   "execution_count": 59,
   "id": "52f3bbf1",
   "metadata": {},
   "outputs": [
    {
     "data": {
      "text/plain": [
       "array(['data', 'mobile', 'voicemail', 'landline'], dtype=object)"
      ]
     },
     "execution_count": 59,
     "metadata": {},
     "output_type": "execute_result"
    }
   ],
   "source": [
    "ph['network_type'].unique()"
   ]
  },
  {
   "cell_type": "code",
   "execution_count": 61,
   "id": "d0158d42",
   "metadata": {},
   "outputs": [
    {
     "data": {
      "text/html": [
       "<div>\n",
       "<style scoped>\n",
       "    .dataframe tbody tr th:only-of-type {\n",
       "        vertical-align: middle;\n",
       "    }\n",
       "\n",
       "    .dataframe tbody tr th {\n",
       "        vertical-align: top;\n",
       "    }\n",
       "\n",
       "    .dataframe thead th {\n",
       "        text-align: right;\n",
       "    }\n",
       "</style>\n",
       "<table border=\"1\" class=\"dataframe\">\n",
       "  <thead>\n",
       "    <tr style=\"text-align: right;\">\n",
       "      <th>network</th>\n",
       "      <th>Meteor</th>\n",
       "      <th>Tesco</th>\n",
       "      <th>Three</th>\n",
       "      <th>Vodafone</th>\n",
       "      <th>data</th>\n",
       "      <th>landline</th>\n",
       "      <th>voicemail</th>\n",
       "    </tr>\n",
       "    <tr>\n",
       "      <th>network_type</th>\n",
       "      <th></th>\n",
       "      <th></th>\n",
       "      <th></th>\n",
       "      <th></th>\n",
       "      <th></th>\n",
       "      <th></th>\n",
       "      <th></th>\n",
       "    </tr>\n",
       "  </thead>\n",
       "  <tbody>\n",
       "    <tr>\n",
       "      <th>data</th>\n",
       "      <td>0</td>\n",
       "      <td>0</td>\n",
       "      <td>0</td>\n",
       "      <td>0</td>\n",
       "      <td>150</td>\n",
       "      <td>0</td>\n",
       "      <td>0</td>\n",
       "    </tr>\n",
       "    <tr>\n",
       "      <th>landline</th>\n",
       "      <td>0</td>\n",
       "      <td>0</td>\n",
       "      <td>0</td>\n",
       "      <td>0</td>\n",
       "      <td>0</td>\n",
       "      <td>42</td>\n",
       "      <td>0</td>\n",
       "    </tr>\n",
       "    <tr>\n",
       "      <th>mobile</th>\n",
       "      <td>87</td>\n",
       "      <td>84</td>\n",
       "      <td>215</td>\n",
       "      <td>215</td>\n",
       "      <td>0</td>\n",
       "      <td>0</td>\n",
       "      <td>0</td>\n",
       "    </tr>\n",
       "    <tr>\n",
       "      <th>voicemail</th>\n",
       "      <td>0</td>\n",
       "      <td>0</td>\n",
       "      <td>0</td>\n",
       "      <td>0</td>\n",
       "      <td>0</td>\n",
       "      <td>0</td>\n",
       "      <td>27</td>\n",
       "    </tr>\n",
       "  </tbody>\n",
       "</table>\n",
       "</div>"
      ],
      "text/plain": [
       "network       Meteor  Tesco  Three  Vodafone  data  landline  voicemail\n",
       "network_type                                                           \n",
       "data               0      0      0         0   150         0          0\n",
       "landline           0      0      0         0     0        42          0\n",
       "mobile            87     84    215       215     0         0          0\n",
       "voicemail          0      0      0         0     0         0         27"
      ]
     },
     "execution_count": 61,
     "metadata": {},
     "output_type": "execute_result"
    }
   ],
   "source": [
    "d=pd.crosstab(ph['network_type'],ph['network'])\n",
    "d"
   ]
  },
  {
   "cell_type": "code",
   "execution_count": 62,
   "id": "5a70bb9a",
   "metadata": {},
   "outputs": [
    {
     "data": {
      "text/plain": [
       "(2460.0,\n",
       " 0.0,\n",
       " 18,\n",
       " array([[ 15.91463415,  15.36585366,  39.32926829,  39.32926829,\n",
       "          27.43902439,   7.68292683,   4.93902439],\n",
       "        [  4.45609756,   4.30243902,  11.01219512,  11.01219512,\n",
       "           7.68292683,   2.15121951,   1.38292683],\n",
       "        [ 63.76463415,  61.56585366, 157.57926829, 157.57926829,\n",
       "         109.93902439,  30.78292683,  19.78902439],\n",
       "        [  2.86463415,   2.76585366,   7.07926829,   7.07926829,\n",
       "           4.93902439,   1.38292683,   0.88902439]]))"
      ]
     },
     "execution_count": 62,
     "metadata": {},
     "output_type": "execute_result"
    }
   ],
   "source": [
    "chi2_contingency(d)"
   ]
  },
  {
   "cell_type": "code",
   "execution_count": 63,
   "id": "f1e9f3dd",
   "metadata": {},
   "outputs": [],
   "source": [
    "# since p value < 0.05 we reject null hypothesis and say network_type does not depend on network"
   ]
  },
  {
   "cell_type": "code",
   "execution_count": 66,
   "id": "75001eb4",
   "metadata": {},
   "outputs": [
    {
     "data": {
      "text/plain": [
       "Index(['date', 'duration', 'item', 'month', 'network', 'network_type'], dtype='object')"
      ]
     },
     "execution_count": 66,
     "metadata": {},
     "output_type": "execute_result"
    }
   ],
   "source": [
    "ph.columns"
   ]
  },
  {
   "cell_type": "code",
   "execution_count": 70,
   "id": "a3f706ab",
   "metadata": {},
   "outputs": [
    {
     "name": "stdout",
     "output_type": "stream",
     "text": [
      "<class 'pandas.core.frame.DataFrame'>\n",
      "RangeIndex: 820 entries, 0 to 819\n",
      "Data columns (total 6 columns):\n",
      " #   Column        Non-Null Count  Dtype  \n",
      "---  ------        --------------  -----  \n",
      " 0   date          820 non-null    object \n",
      " 1   duration      820 non-null    float64\n",
      " 2   item          820 non-null    object \n",
      " 3   month         820 non-null    object \n",
      " 4   network       820 non-null    object \n",
      " 5   network_type  820 non-null    object \n",
      "dtypes: float64(1), object(5)\n",
      "memory usage: 38.6+ KB\n"
     ]
    }
   ],
   "source": [
    "ph.info()"
   ]
  },
  {
   "cell_type": "code",
   "execution_count": null,
   "id": "0eae25d9",
   "metadata": {},
   "outputs": [],
   "source": []
  }
 ],
 "metadata": {
  "kernelspec": {
   "display_name": "Python 3",
   "language": "python",
   "name": "python3"
  },
  "language_info": {
   "codemirror_mode": {
    "name": "ipython",
    "version": 3
   },
   "file_extension": ".py",
   "mimetype": "text/x-python",
   "name": "python",
   "nbconvert_exporter": "python",
   "pygments_lexer": "ipython3",
   "version": "3.8.8"
  }
 },
 "nbformat": 4,
 "nbformat_minor": 5
}
